{
 "cells": [
  {
   "cell_type": "markdown",
   "id": "1162d4cb",
   "metadata": {},
   "source": [
    "## Crypto Currency Forecasting Using LSTM model"
   ]
  },
  {
   "cell_type": "markdown",
   "id": "924f3173",
   "metadata": {},
   "source": [
    "### Background\n",
    "Simply, crypto currency can be defined as a decentralized digital money\n",
    "that is based on blockchain technology. Cryptocurrencies are created (and\n",
    "secured) through cryptographic algorithms. Bitcoin, Ethereum, Litecoin, Monero, Solano, Cardano, etc. are a few most\n",
    "popular cryptocurrencies, while bitcoin has been valued the most\n",
    "expensive one.Bitcoin, and other cryptocurrencies created afterward rapidly gained the\n",
    "popularity and reputation of being pure speculative assets. "
   ]
  },
  {
   "cell_type": "markdown",
   "id": "2bd115b3",
   "metadata": {},
   "source": [
    " ### Motivation\n",
    " As any good investor it is important to know regarding the high prices, low prices, hold and correct sell of the cryptocurrency to increase the profitability.The objective of this project is to predict the price of crypto currency using the prices of 3-4 cryptocurrencies using deep learning models. For this project I have used Bitcoin, Ethereum, Litecoin, Dogecoin to predict the preice of Bitcoin."
   ]
  },
  {
   "cell_type": "markdown",
   "id": "0202f13d",
   "metadata": {},
   "source": [
    "## Importing the libraries\n",
    "\n",
    "As for this project I will be using deep learning, I have installed the required libraries from keras, pandas_datareader to collect the data, sklearn for normalizing the data, matplolib to make graphs."
   ]
  },
  {
   "cell_type": "code",
   "execution_count": 1,
   "id": "0d16d58e",
   "metadata": {},
   "outputs": [],
   "source": [
    "import math\n",
    "import pandas_datareader as web\n",
    "import numpy as np\n",
    "import pandas as pd\n",
    "from sklearn.preprocessing import MinMaxScaler  #scale the financial data between 0 to 1\n",
    "from sklearn.metrics import mean_absolute_error\n",
    "from keras.models import Sequential\n",
    "from keras.layers import Dense, LSTM, GRU, Dropout  #LSTM model important for sequential data \n",
    "import matplotlib.pyplot as plt\n",
    "import datetime as dt\n",
    "from keras.layers import Dropout\n",
    "from keras.layers import Dense\n",
    "from datetime import date\n",
    "import seaborn as sb"
   ]
  },
  {
   "cell_type": "markdown",
   "id": "0a57e2d3",
   "metadata": {},
   "source": [
    "## Data Collection\n",
    "\n",
    "Using Pandas_datareader, we can collect the data required from various APIs. Similarly, I have used yahoo! finance as my API to collect the data of different cryptocurrencies from we.DataReader, where my start date is the beginning of year 2012 to the most current time. To collect the most current time, either we can manually enter it or use other inbuilt libraries to get the current date. For this project I have used datetime .\n",
    "\n",
    "Since the cryptocurrencies have been created at different time periods, they do not have the same starting date. Although bitcoin had been created in early 2000's I have kept the start date as 2018, to get the uniform data throughput the datasets."
   ]
  },
  {
   "cell_type": "code",
   "execution_count": 2,
   "id": "157e2d92",
   "metadata": {},
   "outputs": [],
   "source": [
    "end_date= dt.datetime.now()\n",
    "df_btc=web.DataReader('BTC-USD',data_source='yahoo',start='2018-01-01', end=end_date)\n",
    "df_eth=web.DataReader('ETH-USD',data_source='yahoo',start='2018-01-01',end=end_date) #established in 20\n",
    "df_ltc=web.DataReader('LTC-USD',data_source='yahoo',start='2018-01-01', end=end_date)\n",
    "df_doge=web.DataReader('DOGE-USD',data_source='yahoo',start='2018-01-01', end=end_date)"
   ]
  },
  {
   "cell_type": "markdown",
   "id": "c3318a21",
   "metadata": {},
   "source": [
    "## Data Representation"
   ]
  },
  {
   "cell_type": "markdown",
   "id": "a627765d",
   "metadata": {},
   "source": [
    "From above data collected, we are trying to look at shape of each dataframe to see if they have different datalength."
   ]
  },
  {
   "cell_type": "code",
   "execution_count": 3,
   "id": "639528a8",
   "metadata": {},
   "outputs": [
    {
     "data": {
      "text/plain": [
       "(1585, 6)"
      ]
     },
     "execution_count": 3,
     "metadata": {},
     "output_type": "execute_result"
    }
   ],
   "source": [
    "df_btc.shape"
   ]
  },
  {
   "cell_type": "code",
   "execution_count": 4,
   "id": "967ae495",
   "metadata": {
    "scrolled": true
   },
   "outputs": [
    {
     "data": {
      "text/plain": [
       "(1585, 6)"
      ]
     },
     "execution_count": 4,
     "metadata": {},
     "output_type": "execute_result"
    }
   ],
   "source": [
    "df_eth.shape"
   ]
  },
  {
   "cell_type": "code",
   "execution_count": 5,
   "id": "b7ac0138",
   "metadata": {},
   "outputs": [
    {
     "data": {
      "text/plain": [
       "(1585, 6)"
      ]
     },
     "execution_count": 5,
     "metadata": {},
     "output_type": "execute_result"
    }
   ],
   "source": [
    "df_ltc.shape"
   ]
  },
  {
   "cell_type": "code",
   "execution_count": 6,
   "id": "8ce4bf01",
   "metadata": {
    "scrolled": false
   },
   "outputs": [
    {
     "data": {
      "text/plain": [
       "(1585, 6)"
      ]
     },
     "execution_count": 6,
     "metadata": {},
     "output_type": "execute_result"
    }
   ],
   "source": [
    "df_doge.shape  #the length of all the datasets are same"
   ]
  },
  {
   "cell_type": "markdown",
   "id": "5ab347e5",
   "metadata": {},
   "source": [
    "After verifying the datasets have same shape, we move forward to creating a separate dataframe with closing prices of the cyptocurrency only."
   ]
  },
  {
   "cell_type": "code",
   "execution_count": 7,
   "id": "eeb406ad",
   "metadata": {},
   "outputs": [],
   "source": [
    "close_btc= df_btc['Close'].values\n",
    "close_btc= close_btc.tolist()\n",
    "\n",
    "close_eth=df_eth['Close'].values\n",
    "close_eth=close_eth.tolist()\n",
    "\n",
    "close_ltc=df_ltc['Close'].values\n",
    "close_ltc=close_ltc.tolist()\n",
    "\n",
    "close_doge= df_doge['Close'].values\n",
    "close_doge= close_doge.tolist()"
   ]
  },
  {
   "cell_type": "code",
   "execution_count": 8,
   "id": "48db405a",
   "metadata": {},
   "outputs": [],
   "source": [
    "# Creating a dictionary of all the close lists then making a dataframe'\n",
    "inde=[]\n",
    "for i in range(1,(len(df_btc)+1)):\n",
    "    inde.append(i)"
   ]
  },
  {
   "cell_type": "code",
   "execution_count": 9,
   "id": "6e6f054d",
   "metadata": {},
   "outputs": [],
   "source": [
    "data={'BTC':close_btc, 'ETH':close_eth, 'LTC':close_ltc, 'DOGE':close_doge}"
   ]
  },
  {
   "cell_type": "code",
   "execution_count": 10,
   "id": "b2dfa08a",
   "metadata": {
    "scrolled": false
   },
   "outputs": [
    {
     "data": {
      "text/html": [
       "<div>\n",
       "<style scoped>\n",
       "    .dataframe tbody tr th:only-of-type {\n",
       "        vertical-align: middle;\n",
       "    }\n",
       "\n",
       "    .dataframe tbody tr th {\n",
       "        vertical-align: top;\n",
       "    }\n",
       "\n",
       "    .dataframe thead th {\n",
       "        text-align: right;\n",
       "    }\n",
       "</style>\n",
       "<table border=\"1\" class=\"dataframe\">\n",
       "  <thead>\n",
       "    <tr style=\"text-align: right;\">\n",
       "      <th></th>\n",
       "      <th>BTC</th>\n",
       "      <th>ETH</th>\n",
       "      <th>LTC</th>\n",
       "      <th>DOGE</th>\n",
       "    </tr>\n",
       "  </thead>\n",
       "  <tbody>\n",
       "    <tr>\n",
       "      <th>1</th>\n",
       "      <td>13657.200195</td>\n",
       "      <td>772.640991</td>\n",
       "      <td>229.033005</td>\n",
       "      <td>0.008909</td>\n",
       "    </tr>\n",
       "    <tr>\n",
       "      <th>2</th>\n",
       "      <td>14982.099609</td>\n",
       "      <td>884.443970</td>\n",
       "      <td>255.684006</td>\n",
       "      <td>0.009145</td>\n",
       "    </tr>\n",
       "    <tr>\n",
       "      <th>3</th>\n",
       "      <td>15201.000000</td>\n",
       "      <td>962.719971</td>\n",
       "      <td>245.367996</td>\n",
       "      <td>0.009320</td>\n",
       "    </tr>\n",
       "    <tr>\n",
       "      <th>4</th>\n",
       "      <td>15599.200195</td>\n",
       "      <td>980.921997</td>\n",
       "      <td>241.369995</td>\n",
       "      <td>0.009644</td>\n",
       "    </tr>\n",
       "    <tr>\n",
       "      <th>5</th>\n",
       "      <td>17429.500000</td>\n",
       "      <td>997.719971</td>\n",
       "      <td>249.270996</td>\n",
       "      <td>0.012167</td>\n",
       "    </tr>\n",
       "    <tr>\n",
       "      <th>...</th>\n",
       "      <td>...</td>\n",
       "      <td>...</td>\n",
       "      <td>...</td>\n",
       "      <td>...</td>\n",
       "    </tr>\n",
       "    <tr>\n",
       "      <th>1581</th>\n",
       "      <td>37714.875000</td>\n",
       "      <td>2730.186768</td>\n",
       "      <td>96.165985</td>\n",
       "      <td>0.127557</td>\n",
       "    </tr>\n",
       "    <tr>\n",
       "      <th>1582</th>\n",
       "      <td>38469.093750</td>\n",
       "      <td>2827.756104</td>\n",
       "      <td>99.435776</td>\n",
       "      <td>0.132773</td>\n",
       "    </tr>\n",
       "    <tr>\n",
       "      <th>1583</th>\n",
       "      <td>38529.328125</td>\n",
       "      <td>2857.410400</td>\n",
       "      <td>100.693230</td>\n",
       "      <td>0.130938</td>\n",
       "    </tr>\n",
       "    <tr>\n",
       "      <th>1584</th>\n",
       "      <td>37750.453125</td>\n",
       "      <td>2783.476318</td>\n",
       "      <td>99.343018</td>\n",
       "      <td>0.129520</td>\n",
       "    </tr>\n",
       "    <tr>\n",
       "      <th>1585</th>\n",
       "      <td>39654.457031</td>\n",
       "      <td>2943.605225</td>\n",
       "      <td>106.440903</td>\n",
       "      <td>0.137017</td>\n",
       "    </tr>\n",
       "  </tbody>\n",
       "</table>\n",
       "<p>1585 rows × 4 columns</p>\n",
       "</div>"
      ],
      "text/plain": [
       "               BTC          ETH         LTC      DOGE\n",
       "1     13657.200195   772.640991  229.033005  0.008909\n",
       "2     14982.099609   884.443970  255.684006  0.009145\n",
       "3     15201.000000   962.719971  245.367996  0.009320\n",
       "4     15599.200195   980.921997  241.369995  0.009644\n",
       "5     17429.500000   997.719971  249.270996  0.012167\n",
       "...            ...          ...         ...       ...\n",
       "1581  37714.875000  2730.186768   96.165985  0.127557\n",
       "1582  38469.093750  2827.756104   99.435776  0.132773\n",
       "1583  38529.328125  2857.410400  100.693230  0.130938\n",
       "1584  37750.453125  2783.476318   99.343018  0.129520\n",
       "1585  39654.457031  2943.605225  106.440903  0.137017\n",
       "\n",
       "[1585 rows x 4 columns]"
      ]
     },
     "execution_count": 10,
     "metadata": {},
     "output_type": "execute_result"
    }
   ],
   "source": [
    "df= pd.DataFrame(data, index=inde)  #dataframe of the closing prices only\n",
    "df"
   ]
  },
  {
   "cell_type": "code",
   "execution_count": 11,
   "id": "7c07a2f1",
   "metadata": {},
   "outputs": [
    {
     "data": {
      "text/html": [
       "<div>\n",
       "<style scoped>\n",
       "    .dataframe tbody tr th:only-of-type {\n",
       "        vertical-align: middle;\n",
       "    }\n",
       "\n",
       "    .dataframe tbody tr th {\n",
       "        vertical-align: top;\n",
       "    }\n",
       "\n",
       "    .dataframe thead th {\n",
       "        text-align: right;\n",
       "    }\n",
       "</style>\n",
       "<table border=\"1\" class=\"dataframe\">\n",
       "  <thead>\n",
       "    <tr style=\"text-align: right;\">\n",
       "      <th></th>\n",
       "      <th>BTC</th>\n",
       "      <th>ETH</th>\n",
       "      <th>LTC</th>\n",
       "      <th>DOGE</th>\n",
       "    </tr>\n",
       "  </thead>\n",
       "  <tbody>\n",
       "    <tr>\n",
       "      <th>count</th>\n",
       "      <td>1585.000000</td>\n",
       "      <td>1585.000000</td>\n",
       "      <td>1585.000000</td>\n",
       "      <td>1585.000000</td>\n",
       "    </tr>\n",
       "    <tr>\n",
       "      <th>mean</th>\n",
       "      <td>20164.396991</td>\n",
       "      <td>1096.516204</td>\n",
       "      <td>105.387952</td>\n",
       "      <td>0.060403</td>\n",
       "    </tr>\n",
       "    <tr>\n",
       "      <th>std</th>\n",
       "      <td>18141.989485</td>\n",
       "      <td>1274.689872</td>\n",
       "      <td>63.544517</td>\n",
       "      <td>0.106196</td>\n",
       "    </tr>\n",
       "    <tr>\n",
       "      <th>min</th>\n",
       "      <td>3236.761719</td>\n",
       "      <td>84.308296</td>\n",
       "      <td>23.464331</td>\n",
       "      <td>0.001537</td>\n",
       "    </tr>\n",
       "    <tr>\n",
       "      <th>25%</th>\n",
       "      <td>7292.995117</td>\n",
       "      <td>195.515305</td>\n",
       "      <td>53.744362</td>\n",
       "      <td>0.002533</td>\n",
       "    </tr>\n",
       "    <tr>\n",
       "      <th>50%</th>\n",
       "      <td>9865.119141</td>\n",
       "      <td>388.650757</td>\n",
       "      <td>84.921936</td>\n",
       "      <td>0.003308</td>\n",
       "    </tr>\n",
       "    <tr>\n",
       "      <th>75%</th>\n",
       "      <td>37332.855469</td>\n",
       "      <td>1898.825195</td>\n",
       "      <td>146.300003</td>\n",
       "      <td>0.064458</td>\n",
       "    </tr>\n",
       "    <tr>\n",
       "      <th>max</th>\n",
       "      <td>67566.828125</td>\n",
       "      <td>4812.087402</td>\n",
       "      <td>386.450775</td>\n",
       "      <td>0.684777</td>\n",
       "    </tr>\n",
       "  </tbody>\n",
       "</table>\n",
       "</div>"
      ],
      "text/plain": [
       "                BTC          ETH          LTC         DOGE\n",
       "count   1585.000000  1585.000000  1585.000000  1585.000000\n",
       "mean   20164.396991  1096.516204   105.387952     0.060403\n",
       "std    18141.989485  1274.689872    63.544517     0.106196\n",
       "min     3236.761719    84.308296    23.464331     0.001537\n",
       "25%     7292.995117   195.515305    53.744362     0.002533\n",
       "50%     9865.119141   388.650757    84.921936     0.003308\n",
       "75%    37332.855469  1898.825195   146.300003     0.064458\n",
       "max    67566.828125  4812.087402   386.450775     0.684777"
      ]
     },
     "execution_count": 11,
     "metadata": {},
     "output_type": "execute_result"
    }
   ],
   "source": [
    "df.describe()"
   ]
  },
  {
   "cell_type": "markdown",
   "id": "7681f24f",
   "metadata": {},
   "source": [
    "Here is the graph plotted with all four crypto currencies closing price used for predictions."
   ]
  },
  {
   "cell_type": "code",
   "execution_count": 13,
   "id": "57ca910c",
   "metadata": {},
   "outputs": [
    {
     "data": {
      "image/png": "[encoded data removed]",
      "text/plain": [
       "<Figure size 1440x1152 with 1 Axes>"
      ]
     },
     "metadata": {
      "needs_background": "light"
     },
     "output_type": "display_data"
    }
   ],
   "source": [
    "plt.figure(figsize=(20,16))\n",
    "plt.title('Close Price History of Bitcoin, ethereum, Litcoin, Doge-coin')\n",
    "plt.plot(df)\n",
    "plt.xlabel('Number of days',fontsize=18)\n",
    "plt.ylabel('Close Price USD ($)',fontsize=30)\n",
    "plt.legend(['Bitcoin Price','Ethereum price','Litcoin price','Doge-coin'])\n",
    "plt.show()"
   ]
  },
  {
   "cell_type": "markdown",
   "id": "e0b8395c",
   "metadata": {},
   "source": [
    "### Separate plots "
   ]
  },
  {
   "cell_type": "code",
   "execution_count": 14,
   "id": "d3d4b97e",
   "metadata": {},
   "outputs": [
    {
     "data": {
      "text/plain": [
       "<matplotlib.legend.Legend at 0x277cf85ee80>"
      ]
     },
     "execution_count": 14,
     "metadata": {},
     "output_type": "execute_result"
    },
    {
     "data": {
      "image/png": "[encoded data removed]",
      "text/plain": [
       "<Figure size 576x576 with 4 Axes>"
      ]
     },
     "metadata": {
      "needs_background": "light"
     },
     "output_type": "display_data"
    }
   ],
   "source": [
    "df.plot(subplots=True, figsize=(8, 8))\n",
    "plt.legend(loc='best')\n"
   ]
  },
  {
   "cell_type": "markdown",
   "id": "931b8528",
   "metadata": {},
   "source": [
    "## Correlation Analysis"
   ]
  },
  {
   "cell_type": "code",
   "execution_count": 15,
   "id": "2d86c056",
   "metadata": {
    "scrolled": true
   },
   "outputs": [
    {
     "data": {
      "text/html": [
       "<div>\n",
       "<style scoped>\n",
       "    .dataframe tbody tr th:only-of-type {\n",
       "        vertical-align: middle;\n",
       "    }\n",
       "\n",
       "    .dataframe tbody tr th {\n",
       "        vertical-align: top;\n",
       "    }\n",
       "\n",
       "    .dataframe thead th {\n",
       "        text-align: right;\n",
       "    }\n",
       "</style>\n",
       "<table border=\"1\" class=\"dataframe\">\n",
       "  <thead>\n",
       "    <tr style=\"text-align: right;\">\n",
       "      <th></th>\n",
       "      <th>BTC</th>\n",
       "      <th>ETH</th>\n",
       "      <th>LTC</th>\n",
       "      <th>DOGE</th>\n",
       "    </tr>\n",
       "  </thead>\n",
       "  <tbody>\n",
       "    <tr>\n",
       "      <th>BTC</th>\n",
       "      <td>1.000000</td>\n",
       "      <td>0.926686</td>\n",
       "      <td>0.750754</td>\n",
       "      <td>0.794322</td>\n",
       "    </tr>\n",
       "    <tr>\n",
       "      <th>ETH</th>\n",
       "      <td>0.926686</td>\n",
       "      <td>1.000000</td>\n",
       "      <td>0.717178</td>\n",
       "      <td>0.857724</td>\n",
       "    </tr>\n",
       "    <tr>\n",
       "      <th>LTC</th>\n",
       "      <td>0.750754</td>\n",
       "      <td>0.717178</td>\n",
       "      <td>1.000000</td>\n",
       "      <td>0.677487</td>\n",
       "    </tr>\n",
       "    <tr>\n",
       "      <th>DOGE</th>\n",
       "      <td>0.794322</td>\n",
       "      <td>0.857724</td>\n",
       "      <td>0.677487</td>\n",
       "      <td>1.000000</td>\n",
       "    </tr>\n",
       "  </tbody>\n",
       "</table>\n",
       "</div>"
      ],
      "text/plain": [
       "           BTC       ETH       LTC      DOGE\n",
       "BTC   1.000000  0.926686  0.750754  0.794322\n",
       "ETH   0.926686  1.000000  0.717178  0.857724\n",
       "LTC   0.750754  0.717178  1.000000  0.677487\n",
       "DOGE  0.794322  0.857724  0.677487  1.000000"
      ]
     },
     "execution_count": 15,
     "metadata": {},
     "output_type": "execute_result"
    }
   ],
   "source": [
    "df.corr()  #hence there is some correlartion between them"
   ]
  },
  {
   "cell_type": "code",
   "execution_count": 16,
   "id": "57745bb2",
   "metadata": {
    "scrolled": true
   },
   "outputs": [
    {
     "data": {
      "image/png": "[encoded data removed]",
      "text/plain": [
       "<Figure size 432x288 with 2 Axes>"
      ]
     },
     "metadata": {
      "needs_background": "light"
     },
     "output_type": "display_data"
    }
   ],
   "source": [
    "dataplot = sb.heatmap(df.corr(), cmap=\"YlGnBu\", annot=True)\n",
    "plt.show()"
   ]
  },
  {
   "cell_type": "markdown",
   "id": "d7a91b78",
   "metadata": {},
   "source": [
    "## Testing data and training data\n",
    "\n",
    "To separate the training and testing dataset. Here I have separated the training datasets and testing datasets, convereted them to numpy arrays and reshaped required for the model. 3D"
   ]
  },
  {
   "cell_type": "code",
   "execution_count": 160,
   "id": "1d206296",
   "metadata": {},
   "outputs": [],
   "source": [
    "test_ratio= 0.2  #20% testing data\n",
    "df_np= df.values\n",
    "split_point= int(len(df_np)* (1-test_ratio))\n",
    "train_set= df_np[: split_point]\n",
    "test_set= df_np[split_point:]"
   ]
  },
  {
   "cell_type": "code",
   "execution_count": 161,
   "id": "182c4041",
   "metadata": {},
   "outputs": [
    {
     "data": {
      "text/plain": [
       "(1255, 4)"
      ]
     },
     "execution_count": 161,
     "metadata": {},
     "output_type": "execute_result"
    }
   ],
   "source": [
    "train_set.shape"
   ]
  },
  {
   "cell_type": "code",
   "execution_count": 162,
   "id": "690e8790",
   "metadata": {},
   "outputs": [
    {
     "data": {
      "text/plain": [
       "(314, 4)"
      ]
     },
     "execution_count": 162,
     "metadata": {},
     "output_type": "execute_result"
    }
   ],
   "source": [
    "test_set.shape"
   ]
  },
  {
   "cell_type": "code",
   "execution_count": 163,
   "id": "6fb2e1e0",
   "metadata": {},
   "outputs": [],
   "source": [
    "def split_data(data,num_data,time):\n",
    "    x,y= [], []  #creating two separate lists to appaned the train or test sets of x and y\n",
    "    for i in range(len(data)-num_data-time+1):\n",
    "        x.append(data[i:(i+num_data)])\n",
    "        y.append(data[i+time+n-1])\n",
    "    return np.array(x), np.array(y)  #this will return me array of train or test set provided\n",
    "num_data=4\n",
    "time=1\n",
    "x_train, y_train= split_data(train_set,num_data,time)\n",
    "x_test, y_test= split_data(test_set,num_data,time)"
   ]
  },
  {
   "cell_type": "code",
   "execution_count": 164,
   "id": "3e232c2f",
   "metadata": {
    "scrolled": true
   },
   "outputs": [
    {
     "data": {
      "text/plain": [
       "array([[[1.36572002e+04, 7.72640991e+02, 2.29033005e+02, 8.90900008e-03],\n",
       "        [1.49820996e+04, 8.84443970e+02, 2.55684006e+02, 9.14500002e-03],\n",
       "        [1.52010000e+04, 9.62719971e+02, 2.45367996e+02, 9.32000019e-03],\n",
       "        [1.55992002e+04, 9.80921997e+02, 2.41369995e+02, 9.64399986e-03]],\n",
       "\n",
       "       [[1.49820996e+04, 8.84443970e+02, 2.55684006e+02, 9.14500002e-03],\n",
       "        [1.52010000e+04, 9.62719971e+02, 2.45367996e+02, 9.32000019e-03],\n",
       "        [1.55992002e+04, 9.80921997e+02, 2.41369995e+02, 9.64399986e-03],\n",
       "        [1.74295000e+04, 9.97719971e+02, 2.49270996e+02, 1.21670002e-02]],\n",
       "\n",
       "       [[1.52010000e+04, 9.62719971e+02, 2.45367996e+02, 9.32000019e-03],\n",
       "        [1.55992002e+04, 9.80921997e+02, 2.41369995e+02, 9.64399986e-03],\n",
       "        [1.74295000e+04, 9.97719971e+02, 2.49270996e+02, 1.21670002e-02],\n",
       "        [1.75270000e+04, 1.04168005e+03, 2.96454010e+02, 1.48630003e-02]],\n",
       "\n",
       "       ...,\n",
       "\n",
       "       [[3.75751797e+04, 2.70612500e+03, 1.87263977e+02, 4.23373997e-01],\n",
       "        [3.92087656e+04, 2.85512646e+03, 1.93086182e+02, 3.99962991e-01],\n",
       "        [3.68944062e+04, 2.68819507e+03, 1.78872009e+02, 3.76323014e-01],\n",
       "        [3.55519570e+04, 2.63057690e+03, 1.73028717e+02, 3.72177005e-01]],\n",
       "\n",
       "       [[3.92087656e+04, 2.85512646e+03, 1.93086182e+02, 3.99962991e-01],\n",
       "        [3.68944062e+04, 2.68819507e+03, 1.78872009e+02, 3.76323014e-01],\n",
       "        [3.55519570e+04, 2.63057690e+03, 1.73028717e+02, 3.72177005e-01],\n",
       "        [3.58623789e+04, 2.71509277e+03, 1.76639435e+02, 3.71807009e-01]],\n",
       "\n",
       "       [[3.68944062e+04, 2.68819507e+03, 1.78872009e+02, 3.76323014e-01],\n",
       "        [3.55519570e+04, 2.63057690e+03, 1.73028717e+02, 3.72177005e-01],\n",
       "        [3.58623789e+04, 2.71509277e+03, 1.76639435e+02, 3.71807009e-01],\n",
       "        [3.35607070e+04, 2.59026318e+03, 1.61732803e+02, 3.31050009e-01]]])"
      ]
     },
     "execution_count": 164,
     "metadata": {},
     "output_type": "execute_result"
    }
   ],
   "source": [
    "x_train"
   ]
  },
  {
   "cell_type": "code",
   "execution_count": 165,
   "id": "396c44f2",
   "metadata": {
    "scrolled": true
   },
   "outputs": [
    {
     "data": {
      "text/plain": [
       "array([[1.74295000e+04, 9.97719971e+02, 2.49270996e+02, 1.21670002e-02],\n",
       "       [1.75270000e+04, 1.04168005e+03, 2.96454010e+02, 1.48630003e-02],\n",
       "       [1.64775996e+04, 1.15317004e+03, 2.88450989e+02, 1.70879997e-02],\n",
       "       ...,\n",
       "       [3.58623789e+04, 2.71509277e+03, 1.76639435e+02, 3.71807009e-01],\n",
       "       [3.35607070e+04, 2.59026318e+03, 1.61732803e+02, 3.31050009e-01],\n",
       "       [3.34726328e+04, 2.51743872e+03, 1.61161072e+02, 3.27686995e-01]])"
      ]
     },
     "execution_count": 165,
     "metadata": {},
     "output_type": "execute_result"
    }
   ],
   "source": [
    "y_train"
   ]
  },
  {
   "cell_type": "code",
   "execution_count": 166,
   "id": "a2ebcb51",
   "metadata": {},
   "outputs": [
    {
     "data": {
      "text/plain": [
       "array([[[3.73451211e+04, 2.60826709e+03, 1.72138657e+02, 3.43331009e-01],\n",
       "        [3.67025977e+04, 2.47151855e+03, 1.68203064e+02, 3.26350987e-01],\n",
       "        [3.73343984e+04, 2.35376880e+03, 1.62880524e+02, 3.19359004e-01],\n",
       "        [3.55525156e+04, 2.37248438e+03, 1.62014862e+02, 3.12083989e-01]],\n",
       "\n",
       "       [[3.67025977e+04, 2.47151855e+03, 1.68203064e+02, 3.26350987e-01],\n",
       "        [3.73343984e+04, 2.35376880e+03, 1.62880524e+02, 3.19359004e-01],\n",
       "        [3.55525156e+04, 2.37248438e+03, 1.62014862e+02, 3.12083989e-01],\n",
       "        [3.90978594e+04, 2.50839160e+03, 1.70930878e+02, 3.24382007e-01]],\n",
       "\n",
       "       [[3.73343984e+04, 2.35376880e+03, 1.62880524e+02, 3.19359004e-01],\n",
       "        [3.55525156e+04, 2.37248438e+03, 1.62014862e+02, 3.12083989e-01],\n",
       "        [3.90978594e+04, 2.50839160e+03, 1.70930878e+02, 3.24382007e-01],\n",
       "        [4.02184766e+04, 2.53789111e+03, 1.72949097e+02, 3.32085013e-01]],\n",
       "\n",
       "       ...,\n",
       "\n",
       "       [[4.01271836e+04, 3.03037646e+03, 1.04828415e+02, 1.38076007e-01],\n",
       "        [4.11667305e+04, 3.11834424e+03, 1.10482452e+02, 1.40080005e-01],\n",
       "        [3.99355156e+04, 3.01990942e+03, 1.07411041e+02, 1.43920004e-01],\n",
       "        [4.05534648e+04, 3.04091650e+03, 1.11109344e+02, 1.46026000e-01]],\n",
       "\n",
       "       [[4.11667305e+04, 3.11834424e+03, 1.10482452e+02, 1.40080005e-01],\n",
       "        [3.99355156e+04, 3.01990942e+03, 1.07411041e+02, 1.43920004e-01],\n",
       "        [4.05534648e+04, 3.04091650e+03, 1.11109344e+02, 1.46026000e-01],\n",
       "        [4.04244844e+04, 3.06231030e+03, 1.14430710e+02, 1.43711999e-01]],\n",
       "\n",
       "       [[3.99355156e+04, 3.01990942e+03, 1.07411041e+02, 1.43920004e-01],\n",
       "        [4.05534648e+04, 3.04091650e+03, 1.11109344e+02, 1.46026000e-01],\n",
       "        [4.04244844e+04, 3.06231030e+03, 1.14430710e+02, 1.43711999e-01],\n",
       "        [3.97169531e+04, 2.99340332e+03, 1.09042786e+02, 1.39458999e-01]]])"
      ]
     },
     "execution_count": 166,
     "metadata": {},
     "output_type": "execute_result"
    }
   ],
   "source": [
    "x_test"
   ]
  },
  {
   "cell_type": "code",
   "execution_count": 167,
   "id": "54c50267",
   "metadata": {
    "scrolled": true
   },
   "outputs": [
    {
     "data": {
      "text/plain": [
       "array([[3.90978594e+04, 2.50839160e+03, 1.70930878e+02, 3.24382007e-01],\n",
       "       [4.02184766e+04, 2.53789111e+03, 1.72949097e+02, 3.32085013e-01],\n",
       "       [4.04062695e+04, 2.61093677e+03, 1.78659424e+02, 3.28381002e-01],\n",
       "       ...,\n",
       "       [4.04244844e+04, 3.06231030e+03, 1.14430710e+02, 1.43711999e-01],\n",
       "       [3.97169531e+04, 2.99340332e+03, 1.09042786e+02, 1.39458999e-01],\n",
       "       [3.98608828e+04, 2.99792554e+03, 1.09745819e+02, 1.40191957e-01]])"
      ]
     },
     "execution_count": 167,
     "metadata": {},
     "output_type": "execute_result"
    }
   ],
   "source": [
    "y_test"
   ]
  },
  {
   "cell_type": "markdown",
   "id": "c4781e20",
   "metadata": {},
   "source": [
    "## Predict the coin"
   ]
  },
  {
   "cell_type": "markdown",
   "id": "44147680",
   "metadata": {},
   "source": [
    "Here we can predict one of the coins you would like to predict out of the 4 we have used. Hence, I have defined a function where you will input the index of the cryptocurrency i.e. column number, to be predicted using 4 closing prices. "
   ]
  },
  {
   "cell_type": "code",
   "execution_count": 219,
   "id": "0ed46f85",
   "metadata": {},
   "outputs": [],
   "source": [
    "def  predict_crypto(i, y_test= y_test, y_train = y_train):\n",
    "    x = np.reshape(y_test[:, i], (y_test [:, i].shape[0], 1))\n",
    "    y = np.reshape(y_train[:, i], (y_train[:, i].shape[0], 1))\n",
    "    return x, y"
   ]
  },
  {
   "cell_type": "code",
   "execution_count": 222,
   "id": "2d9710b1",
   "metadata": {},
   "outputs": [],
   "source": [
    "testY_btc, trainY_btc =  predict_crypto(0)  #the index of my prediction is 0"
   ]
  },
  {
   "cell_type": "markdown",
   "id": "421efb69",
   "metadata": {},
   "source": [
    "## Normalize the data\n",
    "\n",
    "To normalize the data, I used MinMaxScaler() to make data range between [0,1]"
   ]
  },
  {
   "cell_type": "code",
   "execution_count": 223,
   "id": "6c4e6987",
   "metadata": {},
   "outputs": [],
   "source": [
    "scaler = MinMaxScaler()"
   ]
  },
  {
   "cell_type": "code",
   "execution_count": 224,
   "id": "58c84de5",
   "metadata": {},
   "outputs": [],
   "source": [
    "def scale(data):  #toget the scaled data back\n",
    "    scaled_data = scaler.transform(data)\n",
    "    return scaled_data"
   ]
  },
  {
   "cell_type": "code",
   "execution_count": 225,
   "id": "0bc6b24f",
   "metadata": {},
   "outputs": [],
   "source": [
    "scalers = {}\n",
    "for i in range (x_train.shape[2]):\n",
    "  scalers[i] = MinMaxScaler()\n",
    "  x_train[:, :, i] = scalers[i].fit_transform(x_train[:, :, i])\n",
    "for i in range(x_test.shape[2]):\n",
    "  x_test[:, :, i] = scalers[i].transform(x_test[:, :, i])\n",
    "\n",
    "trainY_btc = scaler.fit_transform(trainY_btc)\n",
    "testY_btc = scale(testY_btc)"
   ]
  },
  {
   "cell_type": "markdown",
   "id": "aeee190a",
   "metadata": {},
   "source": [
    "## LSTM"
   ]
  },
  {
   "cell_type": "code",
   "execution_count": 226,
   "id": "ebe32154",
   "metadata": {},
   "outputs": [],
   "source": [
    "def train_model(y):\n",
    "    model= Sequential()\n",
    "    model.add(LSTM(units=50, return_sequences=True))\n",
    "    model.add(Dropout(0.2))\n",
    "    model.add(LSTM(units=50, return_sequences=True))\n",
    "    model.add(Dropout(0.2))\n",
    "    model.add(LSTM(units=50))\n",
    "    model.add(Dropout(0.2))\n",
    "    model.add(Dense(units=1))\n",
    "    model.compile(loss='mean_squared_error', optimizer='adam')\n",
    "    history = model.fit(x_train, y, epochs =60, verbose =1)\n",
    "    return history, model"
   ]
  },
  {
   "cell_type": "code",
   "execution_count": 227,
   "id": "01554b6d",
   "metadata": {
    "scrolled": true
   },
   "outputs": [
    {
     "name": "stdout",
     "output_type": "stream",
     "text": [
      "Epoch 1/60\n",
      "40/40 [==============================] - 11s 18ms/step - loss: 0.0353\n",
      "Epoch 2/60\n",
      "40/40 [==============================] - 1s 17ms/step - loss: 0.0041\n",
      "Epoch 3/60\n",
      "40/40 [==============================] - 1s 17ms/step - loss: 0.0020\n",
      "Epoch 4/60\n",
      "40/40 [==============================] - 1s 17ms/step - loss: 0.0019\n",
      "Epoch 5/60\n",
      "40/40 [==============================] - 1s 16ms/step - loss: 0.0016\n",
      "Epoch 6/60\n",
      "40/40 [==============================] - 1s 17ms/step - loss: 0.0016\n",
      "Epoch 7/60\n",
      "40/40 [==============================] - 1s 19ms/step - loss: 0.0012\n",
      "Epoch 8/60\n",
      "40/40 [==============================] - 1s 18ms/step - loss: 0.0015\n",
      "Epoch 9/60\n",
      "40/40 [==============================] - 1s 18ms/step - loss: 0.0015\n",
      "Epoch 10/60\n",
      "40/40 [==============================] - 1s 17ms/step - loss: 0.0017\n",
      "Epoch 11/60\n",
      "40/40 [==============================] - 1s 18ms/step - loss: 0.0012\n",
      "Epoch 12/60\n",
      "40/40 [==============================] - 1s 17ms/step - loss: 0.0013\n",
      "Epoch 13/60\n",
      "40/40 [==============================] - 1s 17ms/step - loss: 0.0013\n",
      "Epoch 14/60\n",
      "40/40 [==============================] - 1s 17ms/step - loss: 9.0187e-04\n",
      "Epoch 15/60\n",
      "40/40 [==============================] - 1s 18ms/step - loss: 0.0012\n",
      "Epoch 16/60\n",
      "40/40 [==============================] - 1s 18ms/step - loss: 0.0011\n",
      "Epoch 17/60\n",
      "40/40 [==============================] - 1s 18ms/step - loss: 0.0013\n",
      "Epoch 18/60\n",
      "40/40 [==============================] - 1s 18ms/step - loss: 0.0018\n",
      "Epoch 19/60\n",
      "40/40 [==============================] - 1s 18ms/step - loss: 0.0011\n",
      "Epoch 20/60\n",
      "40/40 [==============================] - 1s 17ms/step - loss: 0.0014\n",
      "Epoch 21/60\n",
      "40/40 [==============================] - 1s 18ms/step - loss: 0.0011\n",
      "Epoch 22/60\n",
      "40/40 [==============================] - 1s 17ms/step - loss: 0.0012\n",
      "Epoch 23/60\n",
      "40/40 [==============================] - 1s 17ms/step - loss: 0.0010\n",
      "Epoch 24/60\n",
      "40/40 [==============================] - 1s 17ms/step - loss: 0.0012\n",
      "Epoch 25/60\n",
      "40/40 [==============================] - 1s 18ms/step - loss: 0.0012\n",
      "Epoch 26/60\n",
      "40/40 [==============================] - 1s 18ms/step - loss: 0.0011\n",
      "Epoch 27/60\n",
      "40/40 [==============================] - 1s 17ms/step - loss: 0.0011\n",
      "Epoch 28/60\n",
      "40/40 [==============================] - 1s 17ms/step - loss: 0.0013\n",
      "Epoch 29/60\n",
      "40/40 [==============================] - 1s 16ms/step - loss: 0.0012\n",
      "Epoch 30/60\n",
      "40/40 [==============================] - 1s 19ms/step - loss: 0.0011\n",
      "Epoch 31/60\n",
      "40/40 [==============================] - 1s 17ms/step - loss: 0.0011\n",
      "Epoch 32/60\n",
      "40/40 [==============================] - 1s 17ms/step - loss: 0.0012\n",
      "Epoch 33/60\n",
      "40/40 [==============================] - 1s 17ms/step - loss: 0.0011\n",
      "Epoch 34/60\n",
      "40/40 [==============================] - 1s 17ms/step - loss: 9.3206e-04\n",
      "Epoch 35/60\n",
      "40/40 [==============================] - 1s 16ms/step - loss: 0.0012\n",
      "Epoch 36/60\n",
      "40/40 [==============================] - 1s 15ms/step - loss: 9.7121e-04\n",
      "Epoch 37/60\n",
      "40/40 [==============================] - 1s 17ms/step - loss: 0.0014\n",
      "Epoch 38/60\n",
      "40/40 [==============================] - 1s 18ms/step - loss: 0.0010\n",
      "Epoch 39/60\n",
      "40/40 [==============================] - 1s 16ms/step - loss: 9.0156e-04\n",
      "Epoch 40/60\n",
      "40/40 [==============================] - 1s 17ms/step - loss: 0.0010\n",
      "Epoch 41/60\n",
      "40/40 [==============================] - 1s 16ms/step - loss: 9.1258e-04\n",
      "Epoch 42/60\n",
      "40/40 [==============================] - 1s 17ms/step - loss: 0.0011\n",
      "Epoch 43/60\n",
      "40/40 [==============================] - 1s 17ms/step - loss: 0.0010\n",
      "Epoch 44/60\n",
      "40/40 [==============================] - 1s 17ms/step - loss: 9.7523e-04\n",
      "Epoch 45/60\n",
      "40/40 [==============================] - 1s 17ms/step - loss: 0.0012\n",
      "Epoch 46/60\n",
      "40/40 [==============================] - 1s 17ms/step - loss: 0.0014\n",
      "Epoch 47/60\n",
      "40/40 [==============================] - 1s 17ms/step - loss: 9.4478e-04\n",
      "Epoch 48/60\n",
      "40/40 [==============================] - 1s 16ms/step - loss: 0.0010\n",
      "Epoch 49/60\n",
      "40/40 [==============================] - 1s 17ms/step - loss: 9.9458e-04\n",
      "Epoch 50/60\n",
      "40/40 [==============================] - 1s 17ms/step - loss: 0.0011\n",
      "Epoch 51/60\n",
      "40/40 [==============================] - 1s 18ms/step - loss: 8.2833e-04\n",
      "Epoch 52/60\n",
      "40/40 [==============================] - 1s 18ms/step - loss: 8.0635e-04\n",
      "Epoch 53/60\n",
      "40/40 [==============================] - 1s 16ms/step - loss: 9.2949e-04\n",
      "Epoch 54/60\n",
      "40/40 [==============================] - 1s 15ms/step - loss: 0.0011\n",
      "Epoch 55/60\n",
      "40/40 [==============================] - 1s 17ms/step - loss: 0.0010\n",
      "Epoch 56/60\n",
      "40/40 [==============================] - 1s 17ms/step - loss: 9.6630e-04\n",
      "Epoch 57/60\n",
      "40/40 [==============================] - 1s 17ms/step - loss: 8.6068e-04\n",
      "Epoch 58/60\n",
      "40/40 [==============================] - 1s 17ms/step - loss: 7.2416e-04\n",
      "Epoch 59/60\n",
      "40/40 [==============================] - 1s 16ms/step - loss: 8.4955e-04\n",
      "Epoch 60/60\n",
      "40/40 [==============================] - 1s 17ms/step - loss: 8.6931e-04\n"
     ]
    }
   ],
   "source": [
    "history, model = train_model(trainY_btc)\n",
    "predictions_btc = model.predict(x_test)"
   ]
  },
  {
   "cell_type": "code",
   "execution_count": 238,
   "id": "107820e8",
   "metadata": {},
   "outputs": [
    {
     "data": {
      "text/plain": [
       "array([[0.55496323],\n",
       "       [0.5580472 ],\n",
       "       [0.57070506],\n",
       "       [0.5816591 ],\n",
       "       [0.60833234],\n",
       "       [0.6081505 ],\n",
       "       [0.5929999 ],\n",
       "       [0.5726004 ],\n",
       "       [0.55758744],\n",
       "       [0.5350929 ],\n",
       "       [0.52009785],\n",
       "       [0.50602746],\n",
       "       [0.5004442 ],\n",
       "       [0.5116631 ],\n",
       "       [0.5109433 ],\n",
       "       [0.5062057 ],\n",
       "       [0.49983665],\n",
       "       [0.5189715 ],\n",
       "       [0.5366851 ],\n",
       "       [0.534737  ],\n",
       "       [0.5326577 ],\n",
       "       [0.5197518 ],\n",
       "       [0.51797014],\n",
       "       [0.523428  ],\n",
       "       [0.52559066],\n",
       "       [0.52121294],\n",
       "       [0.5108832 ],\n",
       "       [0.5083317 ],\n",
       "       [0.5051619 ],\n",
       "       [0.5072782 ],\n",
       "       [0.5127969 ],\n",
       "       [0.5105659 ],\n",
       "       [0.50835305],\n",
       "       [0.49822488],\n",
       "       [0.4920684 ],\n",
       "       [0.4855997 ],\n",
       "       [0.47899818],\n",
       "       [0.47713286],\n",
       "       [0.47317824],\n",
       "       [0.47076437],\n",
       "       [0.46923932],\n",
       "       [0.4779006 ],\n",
       "       [0.49793923],\n",
       "       [0.50990844],\n",
       "       [0.52897906],\n",
       "       [0.55074894],\n",
       "       [0.57931834],\n",
       "       [0.60754657],\n",
       "       [0.6287458 ],\n",
       "       [0.6394405 ],\n",
       "       [0.64539516],\n",
       "       [0.6486555 ],\n",
       "       [0.62854815],\n",
       "       [0.6101049 ],\n",
       "       [0.60567194],\n",
       "       [0.61494166],\n",
       "       [0.63942707],\n",
       "       [0.6615679 ],\n",
       "       [0.6828747 ],\n",
       "       [0.693354  ],\n",
       "       [0.70183545],\n",
       "       [0.70909834],\n",
       "       [0.7051819 ],\n",
       "       [0.7092673 ],\n",
       "       [0.71738195],\n",
       "       [0.7281093 ],\n",
       "       [0.71665204],\n",
       "       [0.704795  ],\n",
       "       [0.69961905],\n",
       "       [0.70602083],\n",
       "       [0.72386426],\n",
       "       [0.7455065 ],\n",
       "       [0.76084876],\n",
       "       [0.75909436],\n",
       "       [0.7570544 ],\n",
       "       [0.75030166],\n",
       "       [0.7454263 ],\n",
       "       [0.7501208 ],\n",
       "       [0.7489589 ],\n",
       "       [0.7555013 ],\n",
       "       [0.74939424],\n",
       "       [0.74290687],\n",
       "       [0.7356971 ],\n",
       "       [0.74035126],\n",
       "       [0.74796873],\n",
       "       [0.75535965],\n",
       "       [0.7604023 ],\n",
       "       [0.7625327 ],\n",
       "       [0.7572552 ],\n",
       "       [0.739289  ],\n",
       "       [0.7081546 ],\n",
       "       [0.6993578 ],\n",
       "       [0.69935405],\n",
       "       [0.6954737 ],\n",
       "       [0.6988658 ],\n",
       "       [0.7060437 ],\n",
       "       [0.7146298 ],\n",
       "       [0.72830933],\n",
       "       [0.73017234],\n",
       "       [0.7297313 ],\n",
       "       [0.72484636],\n",
       "       [0.7084687 ],\n",
       "       [0.68037224],\n",
       "       [0.6591855 ],\n",
       "       [0.6620652 ],\n",
       "       [0.67486143],\n",
       "       [0.67400426],\n",
       "       [0.6637416 ],\n",
       "       [0.6594018 ],\n",
       "       [0.6533723 ],\n",
       "       [0.6490157 ],\n",
       "       [0.66077626],\n",
       "       [0.68950087],\n",
       "       [0.72200704],\n",
       "       [0.74486536],\n",
       "       [0.7495605 ],\n",
       "       [0.77022904],\n",
       "       [0.79740465],\n",
       "       [0.82274455],\n",
       "       [0.83880985],\n",
       "       [0.83319545],\n",
       "       [0.8416341 ],\n",
       "       [0.85266584],\n",
       "       [0.86283463],\n",
       "       [0.87349975],\n",
       "       [0.8754736 ],\n",
       "       [0.8886081 ],\n",
       "       [0.90043676],\n",
       "       [0.9182276 ],\n",
       "       [0.92041135],\n",
       "       [0.93057334],\n",
       "       [0.9398959 ],\n",
       "       [0.9438197 ],\n",
       "       [0.9340753 ],\n",
       "       [0.91578645],\n",
       "       [0.9120931 ],\n",
       "       [0.91361076],\n",
       "       [0.9116823 ],\n",
       "       [0.9091254 ],\n",
       "       [0.8977714 ],\n",
       "       [0.90091366],\n",
       "       [0.908545  ],\n",
       "       [0.9128004 ],\n",
       "       [0.9122058 ],\n",
       "       [0.9121797 ],\n",
       "       [0.9144795 ],\n",
       "       [0.9168769 ],\n",
       "       [0.9096815 ],\n",
       "       [0.905165  ],\n",
       "       [0.9131768 ],\n",
       "       [0.9285102 ],\n",
       "       [0.9442652 ],\n",
       "       [0.9518558 ],\n",
       "       [0.94190794],\n",
       "       [0.9330884 ],\n",
       "       [0.93121845],\n",
       "       [0.931018  ],\n",
       "       [0.9285186 ],\n",
       "       [0.9195498 ],\n",
       "       [0.9004845 ],\n",
       "       [0.88485205],\n",
       "       [0.877986  ],\n",
       "       [0.8711152 ],\n",
       "       [0.8723733 ],\n",
       "       [0.87124795],\n",
       "       [0.86136824],\n",
       "       [0.8526526 ],\n",
       "       [0.84886575],\n",
       "       [0.83911014],\n",
       "       [0.8359299 ],\n",
       "       [0.83272946],\n",
       "       [0.8486734 ],\n",
       "       [0.85758144],\n",
       "       [0.85204935],\n",
       "       [0.8402102 ],\n",
       "       [0.8266624 ],\n",
       "       [0.79961264],\n",
       "       [0.76911086],\n",
       "       [0.74897146],\n",
       "       [0.7548081 ],\n",
       "       [0.75512254],\n",
       "       [0.74488693],\n",
       "       [0.7315417 ],\n",
       "       [0.72753257],\n",
       "       [0.7357091 ],\n",
       "       [0.73898196],\n",
       "       [0.7320057 ],\n",
       "       [0.7214383 ],\n",
       "       [0.72342885],\n",
       "       [0.7238861 ],\n",
       "       [0.71182096],\n",
       "       [0.7060162 ],\n",
       "       [0.71140945],\n",
       "       [0.71819174],\n",
       "       [0.732225  ],\n",
       "       [0.7503279 ],\n",
       "       [0.758395  ],\n",
       "       [0.76923025],\n",
       "       [0.7693608 ],\n",
       "       [0.7637678 ],\n",
       "       [0.7552801 ],\n",
       "       [0.73865384],\n",
       "       [0.7194915 ],\n",
       "       [0.71687764],\n",
       "       [0.7198436 ],\n",
       "       [0.71840155],\n",
       "       [0.7197406 ],\n",
       "       [0.7060924 ],\n",
       "       [0.6895545 ],\n",
       "       [0.6708821 ],\n",
       "       [0.653237  ],\n",
       "       [0.6464946 ],\n",
       "       [0.64132786],\n",
       "       [0.64651597],\n",
       "       [0.6525436 ],\n",
       "       [0.6599998 ],\n",
       "       [0.6649894 ],\n",
       "       [0.6655073 ],\n",
       "       [0.6597623 ],\n",
       "       [0.6594269 ],\n",
       "       [0.6557524 ],\n",
       "       [0.6506662 ],\n",
       "       [0.64365155],\n",
       "       [0.6329011 ],\n",
       "       [0.6069148 ],\n",
       "       [0.5772266 ],\n",
       "       [0.55206704],\n",
       "       [0.55287826],\n",
       "       [0.5637559 ],\n",
       "       [0.5702343 ],\n",
       "       [0.57393014],\n",
       "       [0.5781545 ],\n",
       "       [0.58494854],\n",
       "       [0.58942217],\n",
       "       [0.5926403 ],\n",
       "       [0.59176946],\n",
       "       [0.5886436 ],\n",
       "       [0.58684146],\n",
       "       [0.59345776],\n",
       "       [0.6194032 ],\n",
       "       [0.6510419 ],\n",
       "       [0.6605963 ],\n",
       "       [0.67470133],\n",
       "       [0.68325835],\n",
       "       [0.681569  ],\n",
       "       [0.6732999 ],\n",
       "       [0.6654883 ],\n",
       "       [0.6602851 ],\n",
       "       [0.66381466],\n",
       "       [0.67170393],\n",
       "       [0.67533964],\n",
       "       [0.6688664 ],\n",
       "       [0.6467448 ],\n",
       "       [0.62220013],\n",
       "       [0.61196584],\n",
       "       [0.60079837],\n",
       "       [0.58633584],\n",
       "       [0.5823795 ],\n",
       "       [0.5900908 ],\n",
       "       [0.59297746],\n",
       "       [0.601927  ],\n",
       "       [0.60842335],\n",
       "       [0.6228487 ],\n",
       "       [0.6486828 ],\n",
       "       [0.68500614],\n",
       "       [0.68007994],\n",
       "       [0.6585817 ],\n",
       "       [0.6313265 ],\n",
       "       [0.6078139 ],\n",
       "       [0.6034493 ],\n",
       "       [0.60451263],\n",
       "       [0.6145259 ],\n",
       "       [0.62560695],\n",
       "       [0.63068026],\n",
       "       [0.6091293 ],\n",
       "       [0.6042585 ],\n",
       "       [0.60546947],\n",
       "       [0.61094373],\n",
       "       [0.62718755],\n",
       "       [0.6341978 ],\n",
       "       [0.6469812 ],\n",
       "       [0.64891833],\n",
       "       [0.6513624 ],\n",
       "       [0.6503904 ],\n",
       "       [0.6494475 ],\n",
       "       [0.6577965 ],\n",
       "       [0.67194235],\n",
       "       [0.6816025 ],\n",
       "       [0.6938865 ],\n",
       "       [0.70612407],\n",
       "       [0.7193372 ],\n",
       "       [0.7342582 ],\n",
       "       [0.73343843],\n",
       "       [0.72833437],\n",
       "       [0.7201207 ],\n",
       "       [0.7143734 ],\n",
       "       [0.7165186 ],\n",
       "       [0.7153579 ],\n",
       "       [0.7112618 ],\n",
       "       [0.70004314],\n",
       "       [0.6818    ],\n",
       "       [0.66851306],\n",
       "       [0.66366655],\n",
       "       [0.6515526 ],\n",
       "       [0.6421588 ],\n",
       "       [0.6292632 ],\n",
       "       [0.61938673],\n",
       "       [0.6246011 ],\n",
       "       [0.6260846 ],\n",
       "       [0.6201328 ]], dtype=float32)"
      ]
     },
     "execution_count": 238,
     "metadata": {},
     "output_type": "execute_result"
    }
   ],
   "source": [
    "predictions_btc"
   ]
  },
  {
   "cell_type": "markdown",
   "id": "4a44cc03",
   "metadata": {},
   "source": [
    "## Plotting\n",
    "\n",
    "Since now , we again have to plot the graph in the original price, we initially have to descale the data to transform it into form of actual predicted price."
   ]
  },
  {
   "cell_type": "code",
   "execution_count": 228,
   "id": "dfb3755c",
   "metadata": {},
   "outputs": [],
   "source": [
    "def plot_graph(predictions,y):\n",
    "    predictions = scaler.inverse_transform(predictions)\n",
    "    y = scaler.inverse_transform(y)\n",
    "    mae = mean_absolute_error(y, predictions)\n",
    "    print(\"Test MAE: %.6f\" % mae)\n",
    "    plt.figure(figsize=(15,6))\n",
    "    plt.plot(predictions,color='red', label=\"Test set predictions\" )\n",
    "    plt.plot(y,color='green', label=\"Actual closing data\")\n",
    "    plt.legend()\n",
    "    plt.ylabel('Price')\n",
    "    plt.xlabel('Days' )\n",
    "    plt.title (\"Bitcoin close Price prediction\")\n",
    "    plt.show()"
   ]
  },
  {
   "cell_type": "code",
   "execution_count": 229,
   "id": "ec44a678",
   "metadata": {},
   "outputs": [
    {
     "name": "stdout",
     "output_type": "stream",
     "text": [
      "Test MAE: 2064.500914\n"
     ]
    },
    {
     "data": {
      "image/png": "[encoded data removed]",
      "text/plain": [
       "<Figure size 1080x432 with 1 Axes>"
      ]
     },
     "metadata": {
      "needs_background": "light"
     },
     "output_type": "display_data"
    }
   ],
   "source": [
    "plot_graph(predictions_btc, testY_btc)"
   ]
  }
 ],
 "metadata": {
  "kernelspec": {
   "display_name": "Python 3 (ipykernel)",
   "language": "python",
   "name": "python3"
  },
  "language_info": {
   "codemirror_mode": {
    "name": "ipython",
    "version": 3
   },
   "file_extension": ".py",
   "mimetype": "text/x-python",
   "name": "python",
   "nbconvert_exporter": "python",
   "pygments_lexer": "ipython3",
   "version": "3.9.7"
  }
 },
 "nbformat": 4,
 "nbformat_minor": 5
}
